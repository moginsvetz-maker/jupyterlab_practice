{
 "cells": [
  {
   "cell_type": "markdown",
   "id": "b366d43e-70cd-409d-916c-201d0ae7082f",
   "metadata": {},
   "source": [
    "# Svetlana Mogutnova \n",
    "Notebook for Assignment 7"
   ]
  },
  {
   "cell_type": "code",
   "execution_count": 1,
   "id": "ac721ac1-6a8b-4dd8-8e3d-73cb88d4ebbf",
   "metadata": {},
   "outputs": [
    {
     "name": "stdout",
     "output_type": "stream",
     "text": [
      "5.0\n"
     ]
    }
   ],
   "source": [
    "def compute_mean(values):\n",
    "    mean_value = sum(values) / len(values)\n",
    "    print(mean_value)\n",
    "\n",
    "compute_mean([2, 4, 6, 8])"
   ]
  },
  {
   "cell_type": "markdown",
   "id": "0878fdef-2100-4a5b-8c1a-2d7e16c39bfb",
   "metadata": {},
   "source": [
    "This function `compute_mean` takes a list of numbers, calculates their arithmetic mean, and prints the result.  \n",
    "\n",
    "The arithmetic mean can be expressed in different ways.\n",
    "\n",
    "$$\n",
    "\\bar{x} = \\frac{1}{n} \\sum_{i=1}^{n} x_i\n",
    "$$\n",
    "\n",
    "Another way of writing the same equation is:\n",
    "\n",
    "$$\n",
    "\\mu = \\frac{x_1 + x_2 + \\dots + x_n}{n}\n",
    "$$\n",
    "\n"
   ]
  },
  {
   "cell_type": "code",
   "execution_count": null,
   "id": "b2b06a00-edc2-4e16-a48a-eddaf2985b73",
   "metadata": {},
   "outputs": [],
   "source": []
  },
  {
   "cell_type": "code",
   "execution_count": null,
   "id": "40e5ca3b-f6d1-47e8-b7b1-92736e74637a",
   "metadata": {},
   "outputs": [],
   "source": []
  }
 ],
 "metadata": {
  "kernelspec": {
   "display_name": "Python [conda env:base] *",
   "language": "python",
   "name": "conda-base-py"
  },
  "language_info": {
   "codemirror_mode": {
    "name": "ipython",
    "version": 3
   },
   "file_extension": ".py",
   "mimetype": "text/x-python",
   "name": "python",
   "nbconvert_exporter": "python",
   "pygments_lexer": "ipython3",
   "version": "3.13.5"
  }
 },
 "nbformat": 4,
 "nbformat_minor": 5
}
